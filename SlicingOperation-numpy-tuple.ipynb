{
 "cells": [
  {
   "cell_type": "code",
   "execution_count": 7,
   "id": "b0ee6db0",
   "metadata": {},
   "outputs": [],
   "source": [
    "# Slicing operations in a list\n",
    "names = (\"happy\", \"dev\",\"Abhishek\", \"suraj\", \"Sourabh\")"
   ]
  },
  {
   "cell_type": "code",
   "execution_count": 2,
   "id": "432f310e",
   "metadata": {},
   "outputs": [
    {
     "data": {
      "text/plain": [
       "('happy', 'dev', 'Abhishek', 'suraj', 'Sourabh')"
      ]
     },
     "execution_count": 2,
     "metadata": {},
     "output_type": "execute_result"
    }
   ],
   "source": [
    "names"
   ]
  },
  {
   "cell_type": "code",
   "execution_count": 3,
   "id": "bea748cf",
   "metadata": {},
   "outputs": [
    {
     "data": {
      "text/plain": [
       "('dev', 'Abhishek')"
      ]
     },
     "execution_count": 3,
     "metadata": {},
     "output_type": "execute_result"
    }
   ],
   "source": [
    "names[1:3]"
   ]
  },
  {
   "cell_type": "code",
   "execution_count": 4,
   "id": "fcf30c91",
   "metadata": {},
   "outputs": [
    {
     "data": {
      "text/plain": [
       "('dev', 'Abhishek', 'suraj', 'Sourabh')"
      ]
     },
     "execution_count": 4,
     "metadata": {},
     "output_type": "execute_result"
    }
   ],
   "source": [
    "names[1:]"
   ]
  },
  {
   "cell_type": "code",
   "execution_count": 5,
   "id": "49229009",
   "metadata": {},
   "outputs": [
    {
     "data": {
      "text/plain": [
       "('happy', 'dev', 'Abhishek', 'suraj', 'Sourabh')"
      ]
     },
     "execution_count": 5,
     "metadata": {},
     "output_type": "execute_result"
    }
   ],
   "source": [
    "names[:]"
   ]
  },
  {
   "cell_type": "code",
   "execution_count": 23,
   "id": "9739fced",
   "metadata": {},
   "outputs": [
    {
     "data": {
      "text/plain": [
       "('happy', 'Abhishek', 'Sourabh')"
      ]
     },
     "execution_count": 23,
     "metadata": {},
     "output_type": "execute_result"
    }
   ],
   "source": [
    "names[::2]"
   ]
  },
  {
   "cell_type": "code",
   "execution_count": 8,
   "id": "bf0d7f2b",
   "metadata": {},
   "outputs": [],
   "source": [
    "# List inside a list or a Nested list"
   ]
  },
  {
   "cell_type": "code",
   "execution_count": 13,
   "id": "9b870507",
   "metadata": {},
   "outputs": [],
   "source": [
    "students= [\n",
    "    [\"Happy\",1111, \"mumbai\"],\n",
    "    [\"dev\", 2222, \"jaipur\"],\n",
    "    [\"suraj\",3333, \"delhi\"],\n",
    "    [\"Abhishek\", 4444, \"chandigarh\"]\n",
    "]"
   ]
  },
  {
   "cell_type": "code",
   "execution_count": 16,
   "id": "b9416b03",
   "metadata": {},
   "outputs": [
    {
     "data": {
      "text/plain": [
       "[['Happy', 1111, 'mumbai'],\n",
       " ['dev', 2222, 'jaipur'],\n",
       " ['suraj', 3333, 'delhi'],\n",
       " ['Abhishek', 4444, 'chandigarh']]"
      ]
     },
     "execution_count": 16,
     "metadata": {},
     "output_type": "execute_result"
    }
   ],
   "source": [
    "students # 2-D list"
   ]
  },
  {
   "cell_type": "code",
   "execution_count": 15,
   "id": "bd1d4c57",
   "metadata": {},
   "outputs": [
    {
     "data": {
      "text/plain": [
       "4"
      ]
     },
     "execution_count": 15,
     "metadata": {},
     "output_type": "execute_result"
    }
   ],
   "source": [
    "len(students)"
   ]
  },
  {
   "cell_type": "code",
   "execution_count": 17,
   "id": "0a7f4dd3",
   "metadata": {},
   "outputs": [],
   "source": [
    "# We can only print the row content of a list. \n",
    "# The list does not allow column-wise operation."
   ]
  },
  {
   "cell_type": "code",
   "execution_count": 18,
   "id": "00674eb2",
   "metadata": {},
   "outputs": [
    {
     "data": {
      "text/plain": [
       "[['dev', 2222, 'jaipur'], ['suraj', 3333, 'delhi']]"
      ]
     },
     "execution_count": 18,
     "metadata": {},
     "output_type": "execute_result"
    }
   ],
   "source": [
    "students[1:3]"
   ]
  },
  {
   "cell_type": "code",
   "execution_count": 34,
   "id": "f7b5c9d8",
   "metadata": {},
   "outputs": [
    {
     "name": "stdout",
     "output_type": "stream",
     "text": [
      "Requirement already satisfied: numpy in /Users/happynehra/anaconda3/lib/python3.11/site-packages (1.24.3)\n",
      "Note: you may need to restart the kernel to use updated packages.\n"
     ]
    }
   ],
   "source": [
    "pip install numpy"
   ]
  },
  {
   "cell_type": "code",
   "execution_count": 35,
   "id": "e0a699b7",
   "metadata": {},
   "outputs": [],
   "source": [
    "import numpy"
   ]
  },
  {
   "cell_type": "code",
   "execution_count": 36,
   "id": "29db6477",
   "metadata": {},
   "outputs": [],
   "source": [
    "A = numpy.array([1,2,3,4,5])"
   ]
  },
  {
   "cell_type": "code",
   "execution_count": 37,
   "id": "b06f74f0",
   "metadata": {},
   "outputs": [
    {
     "name": "stdout",
     "output_type": "stream",
     "text": [
      "[1 2 3 4 5]\n"
     ]
    }
   ],
   "source": [
    "print(A)"
   ]
  },
  {
   "cell_type": "code",
   "execution_count": 38,
   "id": "0524631e",
   "metadata": {},
   "outputs": [
    {
     "data": {
      "text/plain": [
       "array([0., 0.])"
      ]
     },
     "execution_count": 38,
     "metadata": {},
     "output_type": "execute_result"
    }
   ],
   "source": [
    "numpy.zeros(2)"
   ]
  },
  {
   "cell_type": "code",
   "execution_count": 39,
   "id": "48506cc3",
   "metadata": {},
   "outputs": [
    {
     "data": {
      "text/plain": [
       "array([1., 1.])"
      ]
     },
     "execution_count": 39,
     "metadata": {},
     "output_type": "execute_result"
    }
   ],
   "source": [
    "numpy.ones(2)"
   ]
  },
  {
   "cell_type": "code",
   "execution_count": 40,
   "id": "a39bd194",
   "metadata": {},
   "outputs": [
    {
     "data": {
      "text/plain": [
       "array([ 0.        ,  1.11111111,  2.22222222,  3.33333333,  4.44444444,\n",
       "        5.55555556,  6.66666667,  7.77777778,  8.88888889, 10.        ])"
      ]
     },
     "execution_count": 40,
     "metadata": {},
     "output_type": "execute_result"
    }
   ],
   "source": [
    "numpy.linspace(0,10, num=10)"
   ]
  },
  {
   "cell_type": "code",
   "execution_count": 48,
   "id": "911aa981",
   "metadata": {},
   "outputs": [],
   "source": [
    "arr = numpy.array([2,6,3,5,7,9,1,4])"
   ]
  },
  {
   "cell_type": "code",
   "execution_count": 49,
   "id": "d4fabb9e",
   "metadata": {},
   "outputs": [
    {
     "data": {
      "text/plain": [
       "array([2, 6, 3, 5, 7, 9, 1, 4])"
      ]
     },
     "execution_count": 49,
     "metadata": {},
     "output_type": "execute_result"
    }
   ],
   "source": [
    "arr"
   ]
  },
  {
   "cell_type": "raw",
   "id": "48f59db6",
   "metadata": {},
   "source": []
  },
  {
   "cell_type": "code",
   "execution_count": 50,
   "id": "e37b5251",
   "metadata": {},
   "outputs": [
    {
     "data": {
      "text/plain": [
       "array([1, 2, 3, 4, 5, 6, 7, 9])"
      ]
     },
     "execution_count": 50,
     "metadata": {},
     "output_type": "execute_result"
    }
   ],
   "source": [
    "numpy.sort(arr)"
   ]
  },
  {
   "cell_type": "code",
   "execution_count": 5,
   "id": "c5985c7c",
   "metadata": {},
   "outputs": [],
   "source": [
    "x = numpy.array([1,2,3,4,5])\n",
    "y = numpy.array([\"hi\", \"hello\", 1.7, 8])"
   ]
  },
  {
   "cell_type": "code",
   "execution_count": 7,
   "id": "0415ab28",
   "metadata": {},
   "outputs": [
    {
     "data": {
      "text/plain": [
       "array(['1', '2', '3', '4', '5', 'hi', 'hello', '1.7', '8'], dtype='<U32')"
      ]
     },
     "execution_count": 7,
     "metadata": {},
     "output_type": "execute_result"
    }
   ],
   "source": [
    "numpy.concatenate((x,y))"
   ]
  },
  {
   "cell_type": "code",
   "execution_count": 8,
   "id": "43f998e7",
   "metadata": {},
   "outputs": [],
   "source": [
    "students= [\n",
    "    [\"Happy\",1111, \"mumbai\"],\n",
    "    [\"dev\", 2222, \"jaipur\"],\n",
    "    [\"suraj\",3333, \"delhi\"],\n",
    "    [\"Abhishek\", 4444, \"chandigarh\"]\n",
    "]"
   ]
  },
  {
   "cell_type": "code",
   "execution_count": 9,
   "id": "76065105",
   "metadata": {},
   "outputs": [],
   "source": [
    "b =numpy.array(students)"
   ]
  },
  {
   "cell_type": "code",
   "execution_count": 10,
   "id": "418e1398",
   "metadata": {},
   "outputs": [
    {
     "name": "stdout",
     "output_type": "stream",
     "text": [
      "[['Happy' '1111' 'mumbai']\n",
      " ['dev' '2222' 'jaipur']\n",
      " ['suraj' '3333' 'delhi']\n",
      " ['Abhishek' '4444' 'chandigarh']]\n"
     ]
    }
   ],
   "source": [
    "print(b)"
   ]
  },
  {
   "cell_type": "code",
   "execution_count": 11,
   "id": "f72f7b3c",
   "metadata": {},
   "outputs": [
    {
     "data": {
      "text/plain": [
       "numpy.ndarray"
      ]
     },
     "execution_count": 11,
     "metadata": {},
     "output_type": "execute_result"
    }
   ],
   "source": [
    "type(b)"
   ]
  },
  {
   "cell_type": "code",
   "execution_count": 13,
   "id": "b7643980",
   "metadata": {},
   "outputs": [
    {
     "data": {
      "text/plain": [
       "2"
      ]
     },
     "execution_count": 13,
     "metadata": {},
     "output_type": "execute_result"
    }
   ],
   "source": [
    "b.ndim"
   ]
  },
  {
   "cell_type": "code",
   "execution_count": 14,
   "id": "9d94e20f",
   "metadata": {},
   "outputs": [
    {
     "data": {
      "text/plain": [
       "(4, 3)"
      ]
     },
     "execution_count": 14,
     "metadata": {},
     "output_type": "execute_result"
    }
   ],
   "source": [
    "b.shape"
   ]
  },
  {
   "cell_type": "code",
   "execution_count": 23,
   "id": "7bf37e24",
   "metadata": {},
   "outputs": [],
   "source": [
    "db= numpy.array([\n",
    "    \"happy\",\n",
    "    \"dev\",\n",
    "    \"eric\",\n",
    "    \"suraj\",\n",
    "    \"umesh\",\n",
    "    \"rahul\"\n",
    "])"
   ]
  },
  {
   "cell_type": "code",
   "execution_count": 24,
   "id": "75d135fc",
   "metadata": {},
   "outputs": [
    {
     "data": {
      "text/plain": [
       "array(['happy', 'dev', 'eric', 'suraj', 'umesh', 'rahul'], dtype='<U5')"
      ]
     },
     "execution_count": 24,
     "metadata": {},
     "output_type": "execute_result"
    }
   ],
   "source": [
    "db"
   ]
  },
  {
   "cell_type": "code",
   "execution_count": 25,
   "id": "7df5622d",
   "metadata": {},
   "outputs": [
    {
     "data": {
      "text/plain": [
       "(6,)"
      ]
     },
     "execution_count": 25,
     "metadata": {},
     "output_type": "execute_result"
    }
   ],
   "source": [
    "db.shape"
   ]
  },
  {
   "cell_type": "code",
   "execution_count": 26,
   "id": "abb1f479",
   "metadata": {},
   "outputs": [
    {
     "data": {
      "text/plain": [
       "1"
      ]
     },
     "execution_count": 26,
     "metadata": {},
     "output_type": "execute_result"
    }
   ],
   "source": [
    "db.ndim"
   ]
  },
  {
   "cell_type": "code",
   "execution_count": 27,
   "id": "5959bd26",
   "metadata": {},
   "outputs": [],
   "source": [
    "myteam = db.reshape(3,2)"
   ]
  },
  {
   "cell_type": "code",
   "execution_count": 28,
   "id": "f9018713",
   "metadata": {},
   "outputs": [
    {
     "data": {
      "text/plain": [
       "array([['happy', 'dev'],\n",
       "       ['eric', 'suraj'],\n",
       "       ['umesh', 'rahul']], dtype='<U5')"
      ]
     },
     "execution_count": 28,
     "metadata": {},
     "output_type": "execute_result"
    }
   ],
   "source": [
    "myteam"
   ]
  },
  {
   "cell_type": "code",
   "execution_count": 30,
   "id": "5db0679a",
   "metadata": {},
   "outputs": [
    {
     "data": {
      "text/plain": [
       "1"
      ]
     },
     "execution_count": 30,
     "metadata": {},
     "output_type": "execute_result"
    }
   ],
   "source": [
    "myteam.flatten().ndim"
   ]
  },
  {
   "cell_type": "code",
   "execution_count": 31,
   "id": "58eb6ef2",
   "metadata": {},
   "outputs": [],
   "source": [
    "#tuple are immutable and the data cannot be changed once saved."
   ]
  },
  {
   "cell_type": "code",
   "execution_count": 32,
   "id": "3b9bcdf9",
   "metadata": {},
   "outputs": [],
   "source": [
    "country = (\"india\", \"USA\", \"china\", \"italy\")"
   ]
  },
  {
   "cell_type": "code",
   "execution_count": 33,
   "id": "52763806",
   "metadata": {},
   "outputs": [
    {
     "data": {
      "text/plain": [
       "('india', 'USA', 'china', 'italy')"
      ]
     },
     "execution_count": 33,
     "metadata": {},
     "output_type": "execute_result"
    }
   ],
   "source": [
    "country"
   ]
  },
  {
   "cell_type": "code",
   "execution_count": null,
   "id": "62a0082c",
   "metadata": {},
   "outputs": [],
   "source": []
  }
 ],
 "metadata": {
  "kernelspec": {
   "display_name": "Python 3 (ipykernel)",
   "language": "python",
   "name": "python3"
  },
  "language_info": {
   "codemirror_mode": {
    "name": "ipython",
    "version": 3
   },
   "file_extension": ".py",
   "mimetype": "text/x-python",
   "name": "python",
   "nbconvert_exporter": "python",
   "pygments_lexer": "ipython3",
   "version": "3.11.3"
  }
 },
 "nbformat": 4,
 "nbformat_minor": 5
}
