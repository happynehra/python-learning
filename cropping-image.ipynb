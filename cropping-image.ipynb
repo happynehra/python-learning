{
 "cells": [
  {
   "cell_type": "code",
   "execution_count": 3,
   "id": "c378dcca",
   "metadata": {},
   "outputs": [],
   "source": [
    "import cv2"
   ]
  },
  {
   "cell_type": "code",
   "execution_count": 4,
   "id": "f334c6be",
   "metadata": {},
   "outputs": [],
   "source": [
    "pic1 = cv2.imread(\"happy01.JPG\")"
   ]
  },
  {
   "cell_type": "code",
   "execution_count": 3,
   "id": "7e15429e",
   "metadata": {},
   "outputs": [
    {
     "data": {
      "text/plain": [
       "array([[[212, 211, 207],\n",
       "        [212, 211, 207],\n",
       "        [212, 211, 207],\n",
       "        ...,\n",
       "        [212, 211, 207],\n",
       "        [212, 211, 207],\n",
       "        [212, 211, 207]],\n",
       "\n",
       "       [[212, 211, 207],\n",
       "        [212, 211, 207],\n",
       "        [212, 211, 207],\n",
       "        ...,\n",
       "        [212, 211, 207],\n",
       "        [212, 211, 207],\n",
       "        [212, 211, 207]],\n",
       "\n",
       "       [[212, 211, 207],\n",
       "        [212, 211, 207],\n",
       "        [212, 211, 207],\n",
       "        ...,\n",
       "        [212, 211, 207],\n",
       "        [212, 211, 207],\n",
       "        [212, 211, 207]],\n",
       "\n",
       "       ...,\n",
       "\n",
       "       [[ 87,  30,  91],\n",
       "        [ 87,  30,  91],\n",
       "        [ 87,  30,  91],\n",
       "        ...,\n",
       "        [ 87,  30,  91],\n",
       "        [ 87,  30,  91],\n",
       "        [ 87,  30,  91]],\n",
       "\n",
       "       [[ 87,  30,  91],\n",
       "        [ 87,  30,  91],\n",
       "        [ 87,  30,  91],\n",
       "        ...,\n",
       "        [ 87,  30,  91],\n",
       "        [ 87,  30,  91],\n",
       "        [ 87,  30,  91]],\n",
       "\n",
       "       [[ 87,  30,  91],\n",
       "        [ 87,  30,  91],\n",
       "        [ 87,  30,  91],\n",
       "        ...,\n",
       "        [ 87,  30,  91],\n",
       "        [ 87,  30,  91],\n",
       "        [ 87,  30,  91]]], dtype=uint8)"
      ]
     },
     "execution_count": 3,
     "metadata": {},
     "output_type": "execute_result"
    }
   ],
   "source": [
    "pic1"
   ]
  },
  {
   "cell_type": "code",
   "execution_count": null,
   "id": "6c46c6d8",
   "metadata": {},
   "outputs": [],
   "source": [
    "cv2.imshow(\"pic1\", pic1[90:250])\n",
    "cv2.waitKey()\n",
    "cv2.destroyAllWindows()"
   ]
  },
  {
   "cell_type": "code",
   "execution_count": null,
   "id": "0c00d9e7",
   "metadata": {},
   "outputs": [],
   "source": []
  }
 ],
 "metadata": {
  "kernelspec": {
   "display_name": "Python 3 (ipykernel)",
   "language": "python",
   "name": "python3"
  },
  "language_info": {
   "codemirror_mode": {
    "name": "ipython",
    "version": 3
   },
   "file_extension": ".py",
   "mimetype": "text/x-python",
   "name": "python",
   "nbconvert_exporter": "python",
   "pygments_lexer": "ipython3",
   "version": "3.11.3"
  }
 },
 "nbformat": 4,
 "nbformat_minor": 5
}
