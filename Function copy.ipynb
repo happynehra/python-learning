{
 "cells": [
  {
   "cell_type": "markdown",
   "id": "a65682d3",
   "metadata": {},
   "source": [
    "# Functions"
   ]
  },
  {
   "cell_type": "code",
   "execution_count": 11,
   "id": "05bda3c4",
   "metadata": {},
   "outputs": [],
   "source": [
    "def Add(i,j):\n",
    "    x= i\n",
    "    y= j\n",
    "    z = x + y\n",
    "    print(z)\n",
    "    return(z)"
   ]
  },
  {
   "cell_type": "code",
   "execution_count": 13,
   "id": "9de8d343",
   "metadata": {},
   "outputs": [
    {
     "name": "stdout",
     "output_type": "stream",
     "text": [
      "5\n"
     ]
    },
    {
     "data": {
      "text/plain": [
       "5"
      ]
     },
     "execution_count": 13,
     "metadata": {},
     "output_type": "execute_result"
    }
   ],
   "source": [
    "Add(2,3)"
   ]
  },
  {
   "cell_type": "code",
   "execution_count": 14,
   "id": "bc1616fc",
   "metadata": {},
   "outputs": [
    {
     "name": "stdout",
     "output_type": "stream",
     "text": [
      "56\n"
     ]
    }
   ],
   "source": [
    "lw = Add(22,34)"
   ]
  },
  {
   "cell_type": "code",
   "execution_count": null,
   "id": "b88d1f51",
   "metadata": {},
   "outputs": [],
   "source": []
  }
 ],
 "metadata": {
  "kernelspec": {
   "display_name": "Python 3 (ipykernel)",
   "language": "python",
   "name": "python3"
  },
  "language_info": {
   "codemirror_mode": {
    "name": "ipython",
    "version": 3
   },
   "file_extension": ".py",
   "mimetype": "text/x-python",
   "name": "python",
   "nbconvert_exporter": "python",
   "pygments_lexer": "ipython3",
   "version": "3.11.3"
  }
 },
 "nbformat": 4,
 "nbformat_minor": 5
}
